{
 "cells": [
  {
   "cell_type": "markdown",
   "metadata": {},
   "source": [
    "# Sol Practice 3"
   ]
  },
  {
   "cell_type": "markdown",
   "metadata": {},
   "source": [
    "## Q1:- # write a program to sort a dictionary by key.\n",
    "    dict1 = {'data': '123','science':'234','AI': '235'}\n"
   ]
  },
  {
   "cell_type": "code",
   "execution_count": 6,
   "metadata": {},
   "outputs": [
    {
     "name": "stdout",
     "output_type": "stream",
     "text": [
      "AI: 235\n",
      "data: 123\n",
      "science: 234\n"
     ]
    }
   ],
   "source": [
    "dict1 = {'data': '123','science':'234','AI': '235'}\n",
    "for key in sorted(dict1):\n",
    "    print(\"%s: %s\" % (key, dict1[key]))"
   ]
  },
  {
   "cell_type": "markdown",
   "metadata": {},
   "source": [
    "## Q2:- #Write a Python program to get a dictionary from an object's fields."
   ]
  },
  {
   "cell_type": "code",
   "execution_count": 8,
   "metadata": {},
   "outputs": [
    {
     "name": "stdout",
     "output_type": "stream",
     "text": [
      "{'x': 'algorithm', 'y': 'statistics', 'z': 'programming'}\n"
     ]
    }
   ],
   "source": [
    "#solution\n",
    "class dictObj(object):\n",
    "    def __init__(self):\n",
    "        self.x = 'algorithm'\n",
    "        self.y = 'statistics'\n",
    "        self.z = 'programming'\n",
    "    def do_nothing(self):\n",
    "        pass\n",
    "test = dictObj()\n",
    "print(test.__dict__)"
   ]
  },
  {
   "cell_type": "markdown",
   "metadata": {},
   "source": [
    "## Q3:- # write a program to remove duplicates from Dictionary."
   ]
  },
  {
   "cell_type": "code",
   "execution_count": 9,
   "metadata": {},
   "outputs": [
    {
     "name": "stdout",
     "output_type": "stream",
     "text": [
      "{'id1': {'name': ['Sara'], 'class': ['V'], 'subject_integration': ['english, math, science']}, 'id2': {'name': ['David'], 'class': ['V'], 'subject_integration': ['english, math, science']}, 'id4': {'name': ['Surya'], 'class': ['V'], 'subject_integration': ['english, math, science']}}\n"
     ]
    }
   ],
   "source": [
    "#solution\n",
    "student_data = {'id1':\n",
    "        {'name': ['Sara'],\n",
    "        'class': ['V'],\n",
    "        'subject_integration': ['english, math, science']\n",
    "        },\n",
    "        'id2':\n",
    "        {'name': ['David'],\n",
    "        'class': ['V'],\n",
    "        'subject_integration': ['english, math, science']\n",
    "        },\n",
    "        'id3':\n",
    "        {'name': ['Sara'],\n",
    "        'class': ['V'],\n",
    "        'subject_integration': ['english, math, science']\n",
    "        },\n",
    "        'id4':\n",
    "        {'name': ['Surya'],\n",
    "        'class': ['V'],\n",
    "        'subject_integration': ['english, math, science']\n",
    "        },\n",
    "    }\n",
    "result = {}\n",
    "for key,value in student_data.items():\n",
    "    if value not in result.values():\n",
    "        result[key] = value\n",
    "print(result)"
   ]
  },
  {
   "cell_type": "markdown",
   "metadata": {},
   "source": [
    "## Q4:- # write a program to combine two dictionary adding values for common keys"
   ]
  },
  {
   "cell_type": "code",
   "execution_count": 10,
   "metadata": {},
   "outputs": [
    {
     "name": "stdout",
     "output_type": "stream",
     "text": [
      "Counter({'b': 3400, 'a': 1300, 'c': 1300, 'd': 400})\n"
     ]
    }
   ],
   "source": [
    "#solution\n",
    "from collections import Counter\n",
    "\n",
    "d1 = {'a': 1000, 'b': 3200, 'c':1300}\n",
    "d2 = {'a': 300, 'b': 200, 'd':400}\n",
    "\n",
    "d = Counter(d1) + Counter(d2)\n",
    "\n",
    "print(d)"
   ]
  },
  {
   "cell_type": "markdown",
   "metadata": {},
   "source": [
    "## Q5:- # write a program to print all unique values from a dictionary in a list\n",
    "    data = [{\"V\":\"S001\"}, {\"V\": \"S002\"}, {\"VI\": \"S001\"}, {\"VI\": \"S005\"}, {\"VII\":\"S005\"}, {\n",
    "            \"V\":\"S009\"},{\"VIII\":\"S007\"}]"
   ]
  },
  {
   "cell_type": "code",
   "execution_count": 19,
   "metadata": {},
   "outputs": [
    {
     "data": {
      "text/plain": [
       "['S001', 'S002', 'S005', 'S009', 'S007']"
      ]
     },
     "execution_count": 19,
     "metadata": {},
     "output_type": "execute_result"
    }
   ],
   "source": [
    "data = [{\"V\":\"S001\"}, {\"V\": \"S002\"}, {\"VI\": \"S001\"}, {\"VI\": \"S005\"}, {\"VII\":\"S005\"}, {\n",
    "\"V\":\"S009\"},{\"VIII\":\"S007\"}]\n",
    "\n",
    "unique_val_list=[]\n",
    "for item in data:\n",
    "    for key, value in item.items():\n",
    "        if value not in unique_val_list:\n",
    "            unique_val_list.append(value)\n",
    "\n",
    "unique_val_list"
   ]
  },
  {
   "cell_type": "code",
   "execution_count": null,
   "metadata": {},
   "outputs": [],
   "source": []
  }
 ],
 "metadata": {
  "kernelspec": {
   "display_name": "Python 3",
   "language": "python",
   "name": "python3"
  },
  "language_info": {
   "codemirror_mode": {
    "name": "ipython",
    "version": 3
   },
   "file_extension": ".py",
   "mimetype": "text/x-python",
   "name": "python",
   "nbconvert_exporter": "python",
   "pygments_lexer": "ipython3",
   "version": "3.7.7"
  }
 },
 "nbformat": 4,
 "nbformat_minor": 4
}
