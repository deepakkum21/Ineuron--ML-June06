{
  "nbformat": 4,
  "nbformat_minor": 0,
  "metadata": {
    "colab": {
      "name": "ML_June06_PythonAssignment5- Exception handling.ipynb",
      "provenance": []
    },
    "kernelspec": {
      "name": "python3",
      "display_name": "Python 3"
    }
  },
  "cells": [
    {
      "cell_type": "markdown",
      "metadata": {
        "id": "YWefhmXQD0hy",
        "colab_type": "text"
      },
      "source": [
        "# ML_June06_PythonAssignment5- Exception handling"
      ]
    },
    {
      "cell_type": "markdown",
      "metadata": {
        "id": "hJc9GA5RD3PC",
        "colab_type": "text"
      },
      "source": [
        "## Q1:- Write a function to compute 5/0 and use try/except to catch the exceptions."
      ]
    },
    {
      "cell_type": "code",
      "metadata": {
        "id": "VRb58cmBDFsv",
        "colab_type": "code",
        "colab": {
          "base_uri": "https://localhost:8080/",
          "height": 54
        },
        "outputId": "5e3322b1-708e-496f-d76a-6e124fbc2a7b"
      },
      "source": [
        "def compute():\n",
        "    '''function to compute 5/0 with exception handling'''\n",
        "    \n",
        "    try:\n",
        "        res = 5/0\n",
        "        \n",
        "    except ZeroDivisionError as error:\n",
        "        print('There is an exception while preforming 5/0 operation due to', error)\n",
        "        \n",
        "    except Exception:\n",
        "        print('This is the default exception')\n",
        "        \n",
        "    else:\n",
        "        return res\n",
        "    \n",
        "    finally:\n",
        "        print('function executed with exception')\n",
        "        \n",
        "compute()"
      ],
      "execution_count": 1,
      "outputs": [
        {
          "output_type": "stream",
          "text": [
            "There is an exception while preforming 5/0 operation due to division by zero\n",
            "function executed with exception\n"
          ],
          "name": "stdout"
        }
      ]
    },
    {
      "cell_type": "markdown",
      "metadata": {
        "id": "q_yaSfY1EVjQ",
        "colab_type": "text"
      },
      "source": [
        "## Q2:- Implement a Python program to generate all sentences where subject is in [\"Americans\",\"Indians\"] and verb is in [\"Play\", \"watch\"] and the object is in [\"Baseball\",\"cricket\"].\n",
        "### Hint: Subject,Verb and Object should be declared in the program as shown below.\n",
        "#### subjects=[\"Americans \",\"Indians\"]\n",
        "####verbs=[\"play\",\"watch\"]\n",
        "####objects=[\"Baseball\",\"Cricket\"]\n",
        "####Output should come as below:\n",
        "####Americans play Baseball.\n",
        "####Americans play Cricket.\n",
        "\n",
        "\n",
        "####Americans watch Baseball.\n",
        "####Americans watch Cricket.\n",
        "####Indians play Baseball.\n",
        "####Indians play Cricket.\n",
        "####Indians watch Baseball.\n",
        "####Indians watch Cricket."
      ]
    },
    {
      "cell_type": "code",
      "metadata": {
        "id": "-R79syZnEBw8",
        "colab_type": "code",
        "colab": {
          "base_uri": "https://localhost:8080/",
          "height": 167
        },
        "outputId": "20fc452f-cdea-4524-bb44-30f2ca4133e4"
      },
      "source": [
        "subjects=[\"Americans\",\"Indians\"]\n",
        "verbs=[\"play\",\"watch\"]\n",
        "objects=[\"Baseball\",\"Cricket\"]\n",
        "\n",
        "for subject in subjects:\n",
        "    for verb in verbs:\n",
        "        for obj in objects:\n",
        "            print(subject + ' '+ verb + ' ' + obj, end='.\\n')"
      ],
      "execution_count": 2,
      "outputs": [
        {
          "output_type": "stream",
          "text": [
            "Americans play Baseball.\n",
            "Americans play Cricket.\n",
            "Americans watch Baseball.\n",
            "Americans watch Cricket.\n",
            "Indians play Baseball.\n",
            "Indians play Cricket.\n",
            "Indians watch Baseball.\n",
            "Indians watch Cricket.\n"
          ],
          "name": "stdout"
        }
      ]
    },
    {
      "cell_type": "code",
      "metadata": {
        "id": "nUcUwh4lEtJ3",
        "colab_type": "code",
        "colab": {}
      },
      "source": [
        ""
      ],
      "execution_count": null,
      "outputs": []
    }
  ]
}