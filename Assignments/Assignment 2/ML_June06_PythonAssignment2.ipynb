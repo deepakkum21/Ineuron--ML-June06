{
  "nbformat": 4,
  "nbformat_minor": 0,
  "metadata": {
    "colab": {
      "name": "ML-June06-PythonAssignment2.ipynb",
      "provenance": []
    },
    "kernelspec": {
      "name": "python3",
      "display_name": "Python 3"
    }
  },
  "cells": [
    {
      "cell_type": "markdown",
      "metadata": {
        "id": "9tGbXstNAqkI",
        "colab_type": "text"
      },
      "source": [
        "# ML-June06-PythonAssignment2"
      ]
    },
    {
      "cell_type": "markdown",
      "metadata": {
        "id": "8gLVc70vA8T2",
        "colab_type": "text"
      },
      "source": [
        "### 1. Create the below pattern using nested for loop in Python.\n",
        "\n",
        "#####*\n",
        "#####* *\n",
        "#####* * *\n",
        "#####* * * *\n",
        "#####* * * * *\n",
        "#####* * * *\n",
        "#####* * *\n",
        "#####* *\n",
        "#####*"
      ]
    },
    {
      "cell_type": "code",
      "metadata": {
        "id": "qvivE8aMAg6v",
        "colab_type": "code",
        "colab": {
          "base_uri": "https://localhost:8080/",
          "height": 205
        },
        "outputId": "9f6c9c36-b425-455c-c887-4bfdddcbee49"
      },
      "source": [
        "## pattern\n",
        "for i in range(0, 5):\n",
        "    for j in range(0, i + 1):\n",
        "        print(\"*\", end=' ')\n",
        "    print(\"\\r\")\n",
        "\n",
        "for i in range(5, 0, -1):\n",
        "    for j in range(0, i - 1):\n",
        "        print(\"*\", end=' ')\n",
        "    print(\"\\r\")"
      ],
      "execution_count": 2,
      "outputs": [
        {
          "output_type": "stream",
          "text": [
            "* \r\n",
            "* * \r\n",
            "* * * \r\n",
            "* * * * \r\n",
            "* * * * * \r\n",
            "* * * * \r\n",
            "* * * \r\n",
            "* * \r\n",
            "* \r\n",
            "\r\n"
          ],
          "name": "stdout"
        }
      ]
    },
    {
      "cell_type": "markdown",
      "metadata": {
        "id": "AWrgqjXjApQ1",
        "colab_type": "text"
      },
      "source": [
        "### 2. Write a Python program to reverse a word after accepting the input from the user\n",
        "####Input word: ineuron\n",
        "####Output: norueni"
      ]
    },
    {
      "cell_type": "code",
      "metadata": {
        "id": "SSQ18pfmDaVM",
        "colab_type": "code",
        "colab": {
          "base_uri": "https://localhost:8080/",
          "height": 54
        },
        "outputId": "edfb2c82-494c-41a5-dc88-ec8e4e0f3e23"
      },
      "source": [
        "## reverse the input word\n",
        "input_word = input('Enter the word for reversing it: ')\n",
        "print(input_word[::-1])"
      ],
      "execution_count": 3,
      "outputs": [
        {
          "output_type": "stream",
          "text": [
            "Enter the word for reversing it: ineuron\n",
            "norueni\n"
          ],
          "name": "stdout"
        }
      ]
    },
    {
      "cell_type": "code",
      "metadata": {
        "id": "rejrFmchDzXB",
        "colab_type": "code",
        "colab": {}
      },
      "source": [
        ""
      ],
      "execution_count": null,
      "outputs": []
    }
  ]
}