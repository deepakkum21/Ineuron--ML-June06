{
  "nbformat": 4,
  "nbformat_minor": 0,
  "metadata": {
    "colab": {
      "name": "ML_June06_PythonAssignment3.ipynb",
      "provenance": []
    },
    "kernelspec": {
      "name": "python3",
      "display_name": "Python 3"
    }
  },
  "cells": [
    {
      "cell_type": "markdown",
      "metadata": {
        "id": "CTC6ZTtUus--",
        "colab_type": "text"
      },
      "source": [
        "# ML_June06_PythonAssignment3"
      ]
    },
    {
      "cell_type": "markdown",
      "metadata": {
        "id": "4uc58wD5uvYw",
        "colab_type": "text"
      },
      "source": [
        "### Q1.A:- Write a Python Program to implement your own myreduce() function which works exactly like Python's built-in function reduce()"
      ]
    },
    {
      "cell_type": "code",
      "metadata": {
        "id": "LHzm7W0muHPl",
        "colab_type": "code",
        "colab": {
          "base_uri": "https://localhost:8080/",
          "height": 54
        },
        "outputId": "2260a959-a054-44b2-e21e-76106d520acd"
      },
      "source": [
        "def myreduce(func, iterable, init=None):\n",
        "    if type(init)!= type(None):\n",
        "        ans = func(init,iterable[0])\n",
        "        ans = func(ans,iterable[1])\n",
        "    else :\n",
        "        ans =  func(iterable[0],iterable[1])\n",
        "    for i in range(2,len(iterable)):\n",
        "        ans = func(ans,iterable[i])\n",
        "    else:\n",
        "        return ans\n",
        "        \n",
        "print(myreduce(lambda x,y: x*y, [1,5,1,4],9))\n",
        "print(myreduce(lambda x,y: x*y, [1,5,1,4]))"
      ],
      "execution_count": 1,
      "outputs": [
        {
          "output_type": "stream",
          "text": [
            "180\n",
            "20\n"
          ],
          "name": "stdout"
        }
      ]
    },
    {
      "cell_type": "markdown",
      "metadata": {
        "id": "JNYdsAHfu_CM",
        "colab_type": "text"
      },
      "source": [
        "### Q1.B:- Write a Python program to implement your own myfilter() function which works exactly like Python's built-in function filter()"
      ]
    },
    {
      "cell_type": "code",
      "metadata": {
        "id": "veloOxWLu3re",
        "colab_type": "code",
        "colab": {
          "base_uri": "https://localhost:8080/",
          "height": 54
        },
        "outputId": "d5ab8941-e507-47f8-c4e5-c1e479fd14b4"
      },
      "source": [
        "# def my_map(func, iterable):\n",
        "#     for i in iterable:\n",
        "#         l.append(func(i))\n",
        "#     return l\n",
        "\n",
        "# my_map(lambda x: x+2, [1,5,1,4])  \n",
        "\n",
        "\n",
        "def myfilter(func, iterable):\n",
        "    if type(func) == type(None):\n",
        "        return iterable\n",
        "    l = []\n",
        "    for i in iterable:\n",
        "        if func(i):\n",
        "            l.append(i)\n",
        "    return l\n",
        "\n",
        "print(myfilter(None, [5,7,1,2,4,9,6,4,2,3]))\n",
        "print(myfilter(lambda x: x>5, [5,7,1,2,4,9,6,4,2,3]))\n"
      ],
      "execution_count": 2,
      "outputs": [
        {
          "output_type": "stream",
          "text": [
            "[5, 7, 1, 2, 4, 9, 6, 4, 2, 3]\n",
            "[7, 9, 6]\n"
          ],
          "name": "stdout"
        }
      ]
    },
    {
      "cell_type": "markdown",
      "metadata": {
        "id": "VqqFrqYqvT5X",
        "colab_type": "text"
      },
      "source": [
        "### Q2 Write List comprehensions to produce the following Lists\n",
        "#### Q2.A:- ['x', 'xx', 'xxx', 'xxxx', 'y', 'yy', 'yyy', 'yyyy', 'z', 'zz', 'zzz', 'zzzz']"
      ]
    },
    {
      "cell_type": "code",
      "metadata": {
        "id": "5bNgoRW_vH27",
        "colab_type": "code",
        "colab": {
          "base_uri": "https://localhost:8080/",
          "height": 35
        },
        "outputId": "af503036-1a71-46c6-d4d7-aab0cbe83308"
      },
      "source": [
        "[x*y for x in 'xyz' for y in range(1,5)]"
      ],
      "execution_count": 4,
      "outputs": [
        {
          "output_type": "execute_result",
          "data": {
            "text/plain": [
              "['x', 'xx', 'xxx', 'xxxx', 'y', 'yy', 'yyy', 'yyyy', 'z', 'zz', 'zzz', 'zzzz']"
            ]
          },
          "metadata": {
            "tags": []
          },
          "execution_count": 4
        }
      ]
    },
    {
      "cell_type": "markdown",
      "metadata": {
        "id": "UXNbbM_Kv5tS",
        "colab_type": "text"
      },
      "source": [
        "#### Q2.B:- ['x', 'y', 'z', 'xx', 'yy', 'zz', 'xxx', 'yyy', 'zzz', 'xxxx', 'yyyy', 'zzzz']"
      ]
    },
    {
      "cell_type": "code",
      "metadata": {
        "id": "0ycKgX6XveTF",
        "colab_type": "code",
        "colab": {
          "base_uri": "https://localhost:8080/",
          "height": 35
        },
        "outputId": "f1f15b62-04a8-40fa-9bf0-3b51a8cd256c"
      },
      "source": [
        "[x*y for x in range(1,5) for y in 'xyz']"
      ],
      "execution_count": 5,
      "outputs": [
        {
          "output_type": "execute_result",
          "data": {
            "text/plain": [
              "['x', 'y', 'z', 'xx', 'yy', 'zz', 'xxx', 'yyy', 'zzz', 'xxxx', 'yyyy', 'zzzz']"
            ]
          },
          "metadata": {
            "tags": []
          },
          "execution_count": 5
        }
      ]
    },
    {
      "cell_type": "markdown",
      "metadata": {
        "id": "8RpadCjfwhWW",
        "colab_type": "text"
      },
      "source": [
        "#### Q2.C:- [[2], [3], [4], [3], [4], [5], [4], [5], [6]] "
      ]
    },
    {
      "cell_type": "code",
      "metadata": {
        "id": "qw9hfK-_wZS1",
        "colab_type": "code",
        "colab": {
          "base_uri": "https://localhost:8080/",
          "height": 35
        },
        "outputId": "d1cb8f0d-1f0e-4b64-e83c-ca3eaaee6ace"
      },
      "source": [
        "# normal\n",
        "#l=[]\n",
        "#for i in [2,3,4]:\n",
        "#    for j in range(3):\n",
        "#        l.append([i+j])\n",
        "\n",
        "[[i+j] for i in [2,3,4] for j in range(3) ]"
      ],
      "execution_count": 6,
      "outputs": [
        {
          "output_type": "execute_result",
          "data": {
            "text/plain": [
              "[[2], [3], [4], [3], [4], [5], [4], [5], [6]]"
            ]
          },
          "metadata": {
            "tags": []
          },
          "execution_count": 6
        }
      ]
    },
    {
      "cell_type": "markdown",
      "metadata": {
        "id": "o8JRR8yoxabH",
        "colab_type": "text"
      },
      "source": [
        "#### Q2.D:- [[2, 3, 4, 5], [3, 4, 5, 6],[4, 5, 6, 7], [5, 6, 7, 8]]"
      ]
    },
    {
      "cell_type": "code",
      "metadata": {
        "id": "NvGqoUkixYwa",
        "colab_type": "code",
        "colab": {
          "base_uri": "https://localhost:8080/",
          "height": 35
        },
        "outputId": "7a6d1527-3981-4ea0-f65b-640c5d40ca2d"
      },
      "source": [
        "[[x+i for x in range(2,6)] for i in range(4)]"
      ],
      "execution_count": 7,
      "outputs": [
        {
          "output_type": "execute_result",
          "data": {
            "text/plain": [
              "[[2, 3, 4, 5], [3, 4, 5, 6], [4, 5, 6, 7], [5, 6, 7, 8]]"
            ]
          },
          "metadata": {
            "tags": []
          },
          "execution_count": 7
        }
      ]
    },
    {
      "cell_type": "markdown",
      "metadata": {
        "id": "SNgbV9qtxk4u",
        "colab_type": "text"
      },
      "source": [
        "#### Q2.E:- Q2.F:- [(1, 1), (2, 1), (3, 1), (1, 2), (2, 2), (3, 2), (1, 3), (2, 3), (3, 3)]"
      ]
    },
    {
      "cell_type": "code",
      "metadata": {
        "id": "IkkqQxc1xhQj",
        "colab_type": "code",
        "colab": {
          "base_uri": "https://localhost:8080/",
          "height": 35
        },
        "outputId": "88da81e0-b679-4e66-eff7-2eb8f8a5e908"
      },
      "source": [
        "# normal\n",
        "# l=[]\n",
        "# for i in range(1,4):\n",
        "#     for j in range(1,4):\n",
        "#         l.append((j,i))\n",
        "        \n",
        "[(j,i) for i in range(1,4) for j in range(1,4) ]"
      ],
      "execution_count": 8,
      "outputs": [
        {
          "output_type": "execute_result",
          "data": {
            "text/plain": [
              "[(1, 1), (2, 1), (3, 1), (1, 2), (2, 2), (3, 2), (1, 3), (2, 3), (3, 3)]"
            ]
          },
          "metadata": {
            "tags": []
          },
          "execution_count": 8
        }
      ]
    },
    {
      "cell_type": "code",
      "metadata": {
        "id": "HE_1SWTfxtjL",
        "colab_type": "code",
        "colab": {}
      },
      "source": [
        ""
      ],
      "execution_count": null,
      "outputs": []
    }
  ]
}