{
  "nbformat": 4,
  "nbformat_minor": 0,
  "metadata": {
    "colab": {
      "name": "ML_June06_PythonAssignment4.ipynb",
      "provenance": []
    },
    "kernelspec": {
      "name": "python3",
      "display_name": "Python 3"
    }
  },
  "cells": [
    {
      "cell_type": "markdown",
      "metadata": {
        "id": "0MtEHttGIeF1",
        "colab_type": "text"
      },
      "source": [
        "# ML_June06_PythonAssignment4"
      ]
    },
    {
      "cell_type": "markdown",
      "metadata": {
        "id": "NSlCCpYUIl9c",
        "colab_type": "text"
      },
      "source": [
        "#### Q1:- Write a Python Program(with class concepts) to find the area of the triangle using the below formula.\n",
        "area = (s(s-a)(s-b)*(s-c)) 0.5**\n",
        "#### Function to take the length of the sides of triangle from user should be defined in the parent class and function to calculate the area should be defined in subclass"
      ]
    },
    {
      "cell_type": "code",
      "metadata": {
        "id": "JW7RudU-IafR",
        "colab_type": "code",
        "colab": {}
      },
      "source": [
        "class Triangle:\n",
        "    ''' class Triangle'''\n",
        "    \n",
        "    def __init__(self):\n",
        "        ''' function to take sides of a triangle'''\n",
        "        self.side_a = int(input('Enter the value for side A: '))\n",
        "        self.side_b = int(input('Enter the value for side B: '))\n",
        "        self.side_c = int(input('Enter the value for side C: '))\n",
        "    \n",
        "    def __str__(self):\n",
        "        '''string representation'''\n",
        "        return 'Triangle with \\nsideA: {} \\nsideB: {} \\nsideC: {}  '.format(self.side_a,self.side_b,self.side_c)\n",
        "    \n",
        "    \n",
        "class Triangle_Area(Triangle):\n",
        "    '''child class of Triangle'''\n",
        "    \n",
        "    def __init__(self):\n",
        "        '''to initialize  parent class'''\n",
        "        super(Triangle_Area,self).__init__()\n",
        "        \n",
        "    def area(self):\n",
        "        '''to calculate area of triangle'''\n",
        "        s = (self.side_a + self.side_b + self.side_c) / 2\n",
        "        self.area = (s*(s-self.side_a)*(s-self.side_b)*(s-self.side_c)) ** 0.5\n",
        "        return self.area\n",
        "    \n",
        "    def __str__(self):\n",
        "        '''string representation'''\n",
        "        return 'The Area of {} is \\n{} unit cube'.format(super(Triangle_Area,self).__str__(), self.area)"
      ],
      "execution_count": 3,
      "outputs": []
    },
    {
      "cell_type": "code",
      "metadata": {
        "id": "CFxukLl6KW5X",
        "colab_type": "code",
        "colab": {
          "base_uri": "https://localhost:8080/",
          "height": 73
        },
        "outputId": "6901a2b7-84fb-4f87-cbfd-38b75d2141de"
      },
      "source": [
        "triangle = Triangle_Area()"
      ],
      "execution_count": 10,
      "outputs": [
        {
          "output_type": "stream",
          "text": [
            "Enter the value for side A: 3\n",
            "Enter the value for side B: 4\n",
            "Enter the value for side C: 5\n"
          ],
          "name": "stdout"
        }
      ]
    },
    {
      "cell_type": "code",
      "metadata": {
        "id": "RFrjpYP-KzvT",
        "colab_type": "code",
        "colab": {
          "base_uri": "https://localhost:8080/",
          "height": 35
        },
        "outputId": "addad01c-3fa8-4ebe-8fd7-175615b1786d"
      },
      "source": [
        "triangle.area()"
      ],
      "execution_count": 11,
      "outputs": [
        {
          "output_type": "execute_result",
          "data": {
            "text/plain": [
              "6.0"
            ]
          },
          "metadata": {
            "tags": []
          },
          "execution_count": 11
        }
      ]
    },
    {
      "cell_type": "code",
      "metadata": {
        "id": "YTFZ-UpTK5On",
        "colab_type": "code",
        "colab": {
          "base_uri": "https://localhost:8080/",
          "height": 111
        },
        "outputId": "57962129-0e33-4125-e0e6-7925a6fef93c"
      },
      "source": [
        "print(triangle)"
      ],
      "execution_count": 12,
      "outputs": [
        {
          "output_type": "stream",
          "text": [
            "The Area of Triangle with \n",
            "sideA: 3 \n",
            "sideB: 4 \n",
            "sideC: 5   is \n",
            "6.0 unit cube\n"
          ],
          "name": "stdout"
        }
      ]
    },
    {
      "cell_type": "markdown",
      "metadata": {
        "id": "nIjcTOkVIdKK",
        "colab_type": "text"
      },
      "source": [
        "### Q2:- Write a function filter_long_words() that takes a list of words and an integer n and returns the list of words that are longer than n."
      ]
    },
    {
      "cell_type": "code",
      "metadata": {
        "id": "tGPMDJ0oLpWu",
        "colab_type": "code",
        "colab": {
          "base_uri": "https://localhost:8080/",
          "height": 35
        },
        "outputId": "8c9b6684-6c0d-46d5-bddd-f6f91a35f374"
      },
      "source": [
        "\n",
        "# def filter_long_words(words, n):\n",
        "    \n",
        "#     return [word for word in words if len(word)> n]\n",
        "\n",
        "\n",
        "## using filter()\n",
        "def filter_long_words(words, n):    \n",
        "    return list(filter(lambda x: len(x) > n, words))\n",
        "filter_long_words(['dckhdhd', 'dd', 'djdd', 'j', 'jnd', 'kjjjjjj','jj'],5)"
      ],
      "execution_count": 13,
      "outputs": [
        {
          "output_type": "execute_result",
          "data": {
            "text/plain": [
              "['dckhdhd', 'kjjjjjj']"
            ]
          },
          "metadata": {
            "tags": []
          },
          "execution_count": 13
        }
      ]
    },
    {
      "cell_type": "markdown",
      "metadata": {
        "id": "bcbhxkKTLwte",
        "colab_type": "text"
      },
      "source": [
        "### Q3:- Write a Python program using function concept that maps list of words into a list of integers representing the lengths of the corresponding words​.\n",
        "#### Hint: ​If a list [ ab,cde,erty] is passed on to the python function output should come as [2,3,4]\n",
        "#### Here 2,3 and 4 are the lengths of the words in the list."
      ]
    },
    {
      "cell_type": "code",
      "metadata": {
        "id": "njuq3dGLLwRI",
        "colab_type": "code",
        "colab": {
          "base_uri": "https://localhost:8080/",
          "height": 35
        },
        "outputId": "df08a409-d1b2-4c0c-fb79-a0f00afd8fec"
      },
      "source": [
        "def map_to_len(words):\n",
        "    return list(map(lambda x: len(x), words))\n",
        "map_to_len(['dckhdhd', 'dd', 'djdd', 'j', 'jnd', 'kjjjjjj','jj'])"
      ],
      "execution_count": 14,
      "outputs": [
        {
          "output_type": "execute_result",
          "data": {
            "text/plain": [
              "[7, 2, 4, 1, 3, 7, 2]"
            ]
          },
          "metadata": {
            "tags": []
          },
          "execution_count": 14
        }
      ]
    },
    {
      "cell_type": "markdown",
      "metadata": {
        "id": "qcniAVVHMFS2",
        "colab_type": "text"
      },
      "source": [
        "### Q4:- Write a Python function which takes a character (i.e. a string of length 1) and returns True if it is a vowel, False otherwise"
      ]
    },
    {
      "cell_type": "code",
      "metadata": {
        "id": "x-vFn9ohLsPo",
        "colab_type": "code",
        "colab": {
          "base_uri": "https://localhost:8080/",
          "height": 54
        },
        "outputId": "70ef631b-50d0-4d60-d63b-f0d43ce4ce48"
      },
      "source": [
        "def is_vowel(char):    \n",
        "    if(len(char)!=1):\n",
        "        return False\n",
        "    else:\n",
        "        if char.lower() =='a'  or char.lower() =='e' or char.lower() =='i' or char.lower() =='o' or char.lower() =='u':\n",
        "            return True\n",
        "        else:\n",
        "            return False\n",
        "\n",
        "print(is_vowel('A')  )\n",
        "print(is_vowel('C'))"
      ],
      "execution_count": 15,
      "outputs": [
        {
          "output_type": "stream",
          "text": [
            "True\n",
            "False\n"
          ],
          "name": "stdout"
        }
      ]
    },
    {
      "cell_type": "code",
      "metadata": {
        "id": "HU_OxmyqMPum",
        "colab_type": "code",
        "colab": {}
      },
      "source": [
        ""
      ],
      "execution_count": null,
      "outputs": []
    }
  ]
}